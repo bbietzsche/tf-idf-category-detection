{
 "cells": [
  {
   "cell_type": "code",
   "execution_count": 1,
   "id": "a0db1d91",
   "metadata": {
    "_cell_guid": "b1076dfc-b9ad-4769-8c92-a6c4dae69d19",
    "_uuid": "8f2839f25d086af736a60e9eeb907d3b93b6e0e5",
    "execution": {
     "iopub.execute_input": "2021-10-29T12:08:20.348945Z",
     "iopub.status.busy": "2021-10-29T12:08:20.347852Z",
     "iopub.status.idle": "2021-10-29T12:08:20.370025Z",
     "shell.execute_reply": "2021-10-29T12:08:20.369336Z",
     "shell.execute_reply.started": "2021-10-27T18:07:29.440271Z"
    },
    "papermill": {
     "duration": 0.037179,
     "end_time": "2021-10-29T12:08:20.370187",
     "exception": false,
     "start_time": "2021-10-29T12:08:20.333008",
     "status": "completed"
    },
    "tags": []
   },
   "outputs": [
    {
     "name": "stdout",
     "output_type": "stream",
     "text": [
      "/kaggle/input/dogus-teknoloji-n11/train_n11.csv\n",
      "/kaggle/input/dogus-teknoloji-n11/test_n11.csv\n",
      "/kaggle/input/dogus-teknoloji-n11/sample_submission_n11.csv\n",
      "/kaggle/input/zemberekwords/stop-words.tr.txt\n"
     ]
    }
   ],
   "source": [
    "import numpy as np \n",
    "import pandas as pd \n",
    "\n",
    "import os\n",
    "import re\n",
    "for dirname, _, filenames in os.walk('/kaggle/input'):\n",
    "    for filename in filenames:\n",
    "        print(os.path.join(dirname, filename))"
   ]
  },
  {
   "cell_type": "code",
   "execution_count": 2,
   "id": "0dc246ae",
   "metadata": {
    "execution": {
     "iopub.execute_input": "2021-10-29T12:08:20.392943Z",
     "iopub.status.busy": "2021-10-29T12:08:20.392333Z",
     "iopub.status.idle": "2021-10-29T12:08:32.104384Z",
     "shell.execute_reply": "2021-10-29T12:08:32.103845Z",
     "shell.execute_reply.started": "2021-10-27T18:14:19.655072Z"
    },
    "papermill": {
     "duration": 11.724911,
     "end_time": "2021-10-29T12:08:32.104543",
     "exception": false,
     "start_time": "2021-10-29T12:08:20.379632",
     "status": "completed"
    },
    "tags": []
   },
   "outputs": [],
   "source": [
    "sample_submission = pd.read_csv('../input/dogus-teknoloji-n11/sample_submission_n11.csv')\n",
    "test_data = pd.read_csv('../input/dogus-teknoloji-n11/test_n11.csv',sep='|')\n",
    "train_data = pd.read_csv('../input/dogus-teknoloji-n11/train_n11.csv',sep='|')"
   ]
  },
  {
   "cell_type": "code",
   "execution_count": 3,
   "id": "c205ed18",
   "metadata": {
    "execution": {
     "iopub.execute_input": "2021-10-29T12:08:32.126756Z",
     "iopub.status.busy": "2021-10-29T12:08:32.126078Z",
     "iopub.status.idle": "2021-10-29T12:08:33.849377Z",
     "shell.execute_reply": "2021-10-29T12:08:33.848302Z",
     "shell.execute_reply.started": "2021-10-27T18:12:31.858276Z"
    },
    "papermill": {
     "duration": 1.736795,
     "end_time": "2021-10-29T12:08:33.849535",
     "exception": false,
     "start_time": "2021-10-29T12:08:32.112740",
     "status": "completed"
    },
    "tags": []
   },
   "outputs": [],
   "source": [
    "from bs4 import BeautifulSoup\n",
    "from sklearn.feature_extraction.text import CountVectorizer\n",
    "from sklearn.feature_extraction.text import TfidfVectorizer\n",
    "from sklearn.model_selection import train_test_split\n",
    "from sklearn.naive_bayes import MultinomialNB\n",
    "from sklearn import model_selection, naive_bayes, svm\n",
    "from sklearn.metrics import accuracy_score\n",
    "from sklearn.metrics import classification_report\n",
    "from sklearn.metrics import f1_score\n",
    "from nltk.tokenize import word_tokenize\n",
    "import fasttext"
   ]
  },
  {
   "cell_type": "code",
   "execution_count": 4,
   "id": "0b2637b4",
   "metadata": {
    "execution": {
     "iopub.execute_input": "2021-10-29T12:08:33.871660Z",
     "iopub.status.busy": "2021-10-29T12:08:33.870871Z",
     "iopub.status.idle": "2021-10-29T12:08:33.883027Z",
     "shell.execute_reply": "2021-10-29T12:08:33.882519Z",
     "shell.execute_reply.started": "2021-10-29T11:58:47.100442Z"
    },
    "papermill": {
     "duration": 0.025151,
     "end_time": "2021-10-29T12:08:33.883170",
     "exception": false,
     "start_time": "2021-10-29T12:08:33.858019",
     "status": "completed"
    },
    "tags": []
   },
   "outputs": [],
   "source": [
    "with open('../input/zemberekwords/stop-words.tr.txt', 'r') as f:\n",
    "    stop_words = [line.strip() for line in f]\n",
    "    missing = ('sayede','mükemmel',)\n",
    "    stop_words.extend(missing)    "
   ]
  },
  {
   "cell_type": "code",
   "execution_count": 5,
   "id": "6c000dd7",
   "metadata": {
    "execution": {
     "iopub.execute_input": "2021-10-29T12:08:33.907571Z",
     "iopub.status.busy": "2021-10-29T12:08:33.906925Z",
     "iopub.status.idle": "2021-10-29T12:08:33.909494Z",
     "shell.execute_reply": "2021-10-29T12:08:33.908883Z",
     "shell.execute_reply.started": "2021-10-27T18:12:39.909416Z"
    },
    "papermill": {
     "duration": 0.017969,
     "end_time": "2021-10-29T12:08:33.909629",
     "exception": false,
     "start_time": "2021-10-29T12:08:33.891660",
     "status": "completed"
    },
    "tags": []
   },
   "outputs": [],
   "source": [
    "def toClean(text):\n",
    "\n",
    "    text = re.sub(r\"I\", \"ı\", text)\n",
    "    text = text.lower()\n",
    "    text = re.sub('ürün detayları', '', text)\n",
    "    text = BeautifulSoup(text, \"lxml\").text\n",
    "    text = re.sub(r\"\\n\", \"  \", text)\n",
    "    text = re.sub(r\"  \", \" \", text)\n",
    "    text = re.sub(' +', ' ', text)\n",
    "    text = text.strip()\n",
    "    text = re.sub(r'[^\\w\\s]',' ',text)\n",
    "    return text\n",
    "\n",
    "def cleanStopWords(text):\n",
    "    words = word_tokenize(text)\n",
    "    filtered_sentence = \" \".join(w for w in words if not w in stop_words)\n",
    "    return filtered_sentence\n"
   ]
  },
  {
   "cell_type": "code",
   "execution_count": 6,
   "id": "637459b0",
   "metadata": {
    "execution": {
     "iopub.execute_input": "2021-10-29T12:08:33.929452Z",
     "iopub.status.busy": "2021-10-29T12:08:33.928815Z",
     "iopub.status.idle": "2021-10-29T12:18:20.754502Z",
     "shell.execute_reply": "2021-10-29T12:18:20.753827Z",
     "shell.execute_reply.started": "2021-10-27T18:12:42.595891Z"
    },
    "papermill": {
     "duration": 586.836882,
     "end_time": "2021-10-29T12:18:20.754695",
     "exception": false,
     "start_time": "2021-10-29T12:08:33.917813",
     "status": "completed"
    },
    "tags": []
   },
   "outputs": [
    {
     "name": "stderr",
     "output_type": "stream",
     "text": [
      "/opt/conda/lib/python3.7/site-packages/bs4/__init__.py:343: MarkupResemblesLocatorWarning: \".\" looks like a directory name, not markup. You may want to open a file found in this directory and pass the filehandle into Beautiful Soup.\n",
      "  MarkupResemblesLocatorWarning\n"
     ]
    }
   ],
   "source": [
    "train_data['clean_des'] = train_data['DESCRIPTION'].apply(toClean)\n",
    "train_data['clean_title'] = train_data['TITLE'].apply(toClean)\n",
    "train_data['clean_des'] = train_data['clean_des'].apply(cleanStopWords)\n",
    "train_data['clean_title'] = train_data['clean_title'].apply(cleanStopWords)\n",
    "train_data['sumOfBag'] = train_data['clean_des'] + ' . ' + train_data['clean_title'] \n",
    "df = train_data['sumOfBag']\n",
    "\n",
    "#train_data.CATEGORY_ID.value_counts().to_frame().head()"
   ]
  },
  {
   "cell_type": "code",
   "execution_count": 7,
   "id": "f6622fc3",
   "metadata": {
    "execution": {
     "iopub.execute_input": "2021-10-29T12:18:20.792445Z",
     "iopub.status.busy": "2021-10-29T12:18:20.791484Z",
     "iopub.status.idle": "2021-10-29T12:18:41.922900Z",
     "shell.execute_reply": "2021-10-29T12:18:41.922358Z",
     "shell.execute_reply.started": "2021-10-27T18:12:59.038564Z"
    },
    "papermill": {
     "duration": 21.158729,
     "end_time": "2021-10-29T12:18:41.923039",
     "exception": false,
     "start_time": "2021-10-29T12:18:20.764310",
     "status": "completed"
    },
    "tags": []
   },
   "outputs": [],
   "source": [
    "count_vec = TfidfVectorizer(max_features=5000)\n",
    "\n",
    "bow = count_vec.fit_transform(df)\n",
    "bow = np.array(bow.todense())\n",
    "\n",
    "y = train_data['CATEGORY_ID']"
   ]
  },
  {
   "cell_type": "code",
   "execution_count": 8,
   "id": "d9e2a611",
   "metadata": {
    "execution": {
     "iopub.execute_input": "2021-10-29T12:18:41.944882Z",
     "iopub.status.busy": "2021-10-29T12:18:41.944163Z",
     "iopub.status.idle": "2021-10-29T15:50:39.554204Z",
     "shell.execute_reply": "2021-10-29T15:50:39.554733Z",
     "shell.execute_reply.started": "2021-10-27T18:13:03.089244Z"
    },
    "papermill": {
     "duration": 12717.623347,
     "end_time": "2021-10-29T15:50:39.554973",
     "exception": false,
     "start_time": "2021-10-29T12:18:41.931626",
     "status": "completed"
    },
    "tags": []
   },
   "outputs": [
    {
     "data": {
      "text/plain": [
       "SVC(gamma='auto', kernel='linear')"
      ]
     },
     "execution_count": 8,
     "metadata": {},
     "output_type": "execute_result"
    }
   ],
   "source": [
    "SVM = svm.SVC(C=1.0, kernel='linear', degree=3, gamma='auto')\n",
    "SVM.fit(bow,y)"
   ]
  },
  {
   "cell_type": "code",
   "execution_count": 9,
   "id": "59e6e0b6",
   "metadata": {
    "execution": {
     "iopub.execute_input": "2021-10-29T15:50:39.582821Z",
     "iopub.status.busy": "2021-10-29T15:50:39.582197Z",
     "iopub.status.idle": "2021-10-29T15:53:06.443351Z",
     "shell.execute_reply": "2021-10-29T15:53:06.442809Z",
     "shell.execute_reply.started": "2021-10-25T19:25:11.228705Z"
    },
    "papermill": {
     "duration": 146.879928,
     "end_time": "2021-10-29T15:53:06.443551",
     "exception": false,
     "start_time": "2021-10-29T15:50:39.563623",
     "status": "completed"
    },
    "tags": []
   },
   "outputs": [],
   "source": [
    "test_data['clean_des'] = test_data['DESCRIPTION'].apply(toClean)\n",
    "test_data['clean_title'] = test_data['TITLE'].apply(toClean)\n",
    "test_data['clean_des'] = test_data['clean_des'].apply(cleanStopWords)\n",
    "test_data['clean_title'] = test_data['clean_title'].apply(cleanStopWords)\n",
    "test_data['sumOfBag'] = test_data['clean_des'] + ' . ' + test_data['clean_title'] \n",
    "df2 = test_data['sumOfBag']"
   ]
  },
  {
   "cell_type": "code",
   "execution_count": 10,
   "id": "537e9ee2",
   "metadata": {
    "execution": {
     "iopub.execute_input": "2021-10-29T15:53:06.470982Z",
     "iopub.status.busy": "2021-10-29T15:53:06.470017Z",
     "iopub.status.idle": "2021-10-29T17:17:31.223072Z",
     "shell.execute_reply": "2021-10-29T17:17:31.221918Z",
     "shell.execute_reply.started": "2021-10-25T19:25:12.009473Z"
    },
    "papermill": {
     "duration": 5064.77059,
     "end_time": "2021-10-29T17:17:31.223376",
     "exception": false,
     "start_time": "2021-10-29T15:53:06.452786",
     "status": "completed"
    },
    "tags": []
   },
   "outputs": [],
   "source": [
    "bow2 = count_vec.transform(df2)\n",
    "bow2 = np.array(bow2.todense())\n",
    "\n",
    "expected = SVM.predict(bow2)"
   ]
  },
  {
   "cell_type": "code",
   "execution_count": 11,
   "id": "2d4b5f2c",
   "metadata": {
    "execution": {
     "iopub.execute_input": "2021-10-29T17:17:31.252614Z",
     "iopub.status.busy": "2021-10-29T17:17:31.251992Z",
     "iopub.status.idle": "2021-10-29T17:17:31.293401Z",
     "shell.execute_reply": "2021-10-29T17:17:31.292862Z",
     "shell.execute_reply.started": "2021-10-25T19:25:12.860047Z"
    },
    "papermill": {
     "duration": 0.059816,
     "end_time": "2021-10-29T17:17:31.293557",
     "exception": false,
     "start_time": "2021-10-29T17:17:31.233741",
     "status": "completed"
    },
    "tags": []
   },
   "outputs": [],
   "source": [
    "test_id = test_data['ID']\n",
    "expected_df = pd.DataFrame(expected)\n",
    "result = pd.concat([test_id, expected_df], axis=1)\n",
    "result.columns = ['ID','Expected']\n",
    "result.to_csv(r'submission.csv', index = False)"
   ]
  }
 ],
 "metadata": {
  "kernelspec": {
   "display_name": "Python 3",
   "language": "python",
   "name": "python3"
  },
  "language_info": {
   "codemirror_mode": {
    "name": "ipython",
    "version": 3
   },
   "file_extension": ".py",
   "mimetype": "text/x-python",
   "name": "python",
   "nbconvert_exporter": "python",
   "pygments_lexer": "ipython3",
   "version": "3.7.10"
  },
  "papermill": {
   "default_parameters": {},
   "duration": 18561.379127,
   "end_time": "2021-10-29T17:17:33.476769",
   "environment_variables": {},
   "exception": null,
   "input_path": "__notebook__.ipynb",
   "output_path": "__notebook__.ipynb",
   "parameters": {},
   "start_time": "2021-10-29T12:08:12.097642",
   "version": "2.3.3"
  }
 },
 "nbformat": 4,
 "nbformat_minor": 5
}
